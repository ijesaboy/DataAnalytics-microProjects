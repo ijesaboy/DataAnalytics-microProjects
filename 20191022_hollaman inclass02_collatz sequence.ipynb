{
 "cells": [
  {
   "cell_type": "markdown",
   "metadata": {},
   "source": [
    "# Exercise: Collatz Sequence\n",
    "\n",
    "You are going to develop an application to produce numbers in a sequence. \n",
    "The user will be required to enter a number, and for that number, you will: \n",
    "\n",
    "* Divide the number by 2 if it is even\n",
    "* Multiply the number by 3, and add 1 if it is odd. \n",
    "* Do this until you get to 1. \n",
    "\n",
    "Ask the user if he/she would like to input another number, and continue until he/she does not want to enter any more numbers. \n",
    "\n",
    "Show the results as you go. For example, the number 5 should produce the following output: \n",
    "5 16 8 4 2 1\n",
    "\n",
    "The number 3 should produce the following output: \n",
    "3 10 5 16 8 4 2 1"
   ]
  },
  {
   "cell_type": "code",
   "execution_count": 1,
   "metadata": {},
   "outputs": [
    {
     "name": "stdout",
     "output_type": "stream",
     "text": [
      "Hey there! This is script produces a seuqnce of numbers. See if you can guess the algorithm...\n",
      "hint: it has 3 parts and only uses arithmatic\n",
      "\n",
      "To begin, please enter number: 29\n",
      "\n",
      "For a user input of 29 our algorithm produces the following set:\n",
      "29 88 44 22 11 34 17 52 26 13 40 20 10 5 16 8 4 2 1 \n",
      "\n",
      "Do you wish to enter another number? (y/n) y\n",
      "Please enter another number: 13\n",
      "\n",
      "For a user input of 13 our algorithm produces the following set:\n",
      "13 40 20 10 5 16 8 4 2 1 \n",
      "\n",
      "Do you wish to enter another number? (y/n) n\n",
      "Hhhuzahhh! Looks like we are finished here\n"
     ]
    }
   ],
   "source": [
    "#hollaman\n",
    "#20191022\n",
    "#inclass02 Collatz Exercise\n",
    "\n",
    "#Introduction\n",
    "print('Hey there! This is script produces a seuqnce of numbers. See if you can guess the algorithm...\\nhint: it has 3 parts and only uses arithmatic\\n')\n",
    "\n",
    "#get user input\n",
    "#set variable and while loop\n",
    "uinput = float(input('To begin, please enter number: '))\n",
    "\n",
    "#to make this program safer to execute, we will throw an error if the user enters an input that is not an integer or is less than 1\n",
    "while uinput < 1 or not uinput.is_integer():\n",
    "    uinput = float(input('Input Error. Please enter a positive integer to continue: '))\n",
    "        \n",
    "user_input_continue = 1\n",
    "\n",
    "while user_input_continue == 1:\n",
    "    Oi = [uinput]\n",
    "    #check for input error and rebroadcast\n",
    "    while Oi[-1] != 1:\n",
    "        oi_e = Oi[-1]/2\n",
    "        oi_o = Oi[-1]*3+1\n",
    "        if oi_e.is_integer():\n",
    "            Oi.append(oi_e)\n",
    "        else:\n",
    "            Oi.append(oi_o)\n",
    "    \n",
    "    #print results\n",
    "    #print('For a user input of '+str(uinput)+' our algorithm produces the following set:\\n'+str(Oi).replace('.0',''))\n",
    "    print('\\nFor a user input of {:.0f} our algorithm produces the following set:'.format(uinput))\n",
    "    [print(\"{:.0f}\".format(i), end=' ') for i in Oi]\n",
    "    \n",
    "    #ask user whether they want to continue\n",
    "    uinput = str(input('\\n\\nDo you wish to enter another number? (y/n) ')).lower()\n",
    "    uierror=1\n",
    "    while uierror == 1:\n",
    "        if uinput =='y':\n",
    "            user_input_continue = 1\n",
    "            \n",
    "            #run again if the user will have it\n",
    "            uinput = float(input('Please enter another number: '))\n",
    "    \n",
    "            #to make this program safer to execute, we will throw an error if the user enters an input that is not an integer or is less than 1\n",
    "            while uinput < 1 or not uinput.is_integer():\n",
    "                uinput = float(input('Input Error. Please enter a positive integer to continue: '))\n",
    "            uierror = 0\n",
    "        elif uinput =='n':\n",
    "            user_input_continue = 0\n",
    "            uierror = 0\n",
    "        else:\n",
    "            uinput = str(input('There was an input error. Please enter \"y\" to enter another number OR \"n\" to quit:')).lower()\n",
    "\n",
    "#End Program\n",
    "print('Hhhuzahhh! Looks like we are finished here')\n",
    "\n"
   ]
  }
 ],
 "metadata": {
  "kernelspec": {
   "display_name": "Python 3",
   "language": "python",
   "name": "python3"
  },
  "language_info": {
   "codemirror_mode": {
    "name": "ipython",
    "version": 3
   },
   "file_extension": ".py",
   "mimetype": "text/x-python",
   "name": "python",
   "nbconvert_exporter": "python",
   "pygments_lexer": "ipython3",
   "version": "3.7.3"
  }
 },
 "nbformat": 4,
 "nbformat_minor": 2
}
