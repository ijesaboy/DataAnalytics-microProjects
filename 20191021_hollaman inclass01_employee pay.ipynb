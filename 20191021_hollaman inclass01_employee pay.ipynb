{
 "cells": [
  {
   "cell_type": "markdown",
   "metadata": {},
   "source": [
    "# Exercise: Employee Pay\n",
    "\n",
    "Using a text editor, write a program that calculates the salary for the week of the employees listed below. If an employee worked more than 40 hours that week, then calculate the remaining hours as time and a half (1.5x the normal rate).The program should print their name and salary earned. Upload your finished script to Github and use its URL for your assignment submission."
   ]
  },
  {
   "cell_type": "raw",
   "metadata": {},
   "source": [
    "ID Number\tName\tPay Rate\tHours Worked\n",
    "001\tMary\t$15.00\t40\n",
    "002\tJohn\t$22.00\t25\n",
    "003\tBob\t$35.00\t4\n",
    "004\tMel\t$43.00\t62\n",
    "005\tJen\t$17.00\t33\n",
    "006\tSue\t$29.00\t45\n",
    "007\tKen\t$40.00\t36\n",
    "008\tDave\t$20.00\t17\n",
    "009\tBeth\t$37.00\t37\n",
    "010\tRay\t$16.50\t80"
   ]
  },
  {
   "cell_type": "code",
   "execution_count": 1,
   "metadata": {
    "scrolled": true
   },
   "outputs": [
    {
     "name": "stdout",
     "output_type": "stream",
     "text": [
      "This week Mary earned $600.0... Hurray!\n",
      "This week John earned $550.0... Hurray!\n",
      "This week Bob earned $140.0... Hurray!\n",
      "This week Mel earned $3139.0... Hurray!\n",
      "This week Jen earned $561.0... Hurray!\n",
      "This week Sue earned $1377.5... Hurray!\n",
      "This week Ken earned $1440.0... Hurray!\n",
      "This week Dave earned $340.0... Hurray!\n",
      "This week Beth earned $1369.0... Hurray!\n",
      "This week Ray earned $1650.0... Hurray!\n"
     ]
    }
   ],
   "source": [
    "#20191021\n",
    "#Assignment: Write Emp Pay Program\n",
    "#hollaman\n",
    "___\n",
    "\n",
    "#create emp_pay table\n",
    "emp_pay = [[\"001\",\"Mary\",15.00,40],\n",
    "[\"002\",\"John\",22.00,25],\n",
    "[\"003\",\"Bob\",35.00,4],\n",
    "[\"004\",\"Mel\",43.00,62],\n",
    "[\"005\",\"Jen\",17.00,33],\n",
    "[\"006\",\"Sue\",29.00,45],\n",
    "[\"007\",\"Ken\",40.00,36],\n",
    "[\"008\",\"Dave\",20.00,17],\n",
    "[\"009\",\"Beth\",37.00,37],\n",
    "[\"010\",\"Ray\",16.50,80]]\n",
    "\n",
    "#overtime threshold\n",
    "ot = int(40)\n",
    "\n",
    "#for reach row of emp_pay, emp\n",
    "for emp in emp_pay:\n",
    "    n = emp[1]\n",
    "    pr = float(emp[2])\n",
    "    hw = int(emp[3])\n",
    "    \n",
    "    #compute salary 's'\n",
    "    if hw < 0:\n",
    "        s = float(0)\n",
    "        #print(\"hours worked less than '0' error\")\n",
    "    if hw > 0 and hw <= 40:\n",
    "        s = float(hw*pr)\n",
    "    if hw > 40:\n",
    "        s = float(pr*(1.5*hw - 20))\n",
    "    \n",
    "    #print result\n",
    "    print(\"This week \"+n+\" earned $\"+str(s)+\"... Hurray!\")"
   ]
  }
 ],
 "metadata": {
  "kernelspec": {
   "display_name": "Python 3",
   "language": "python",
   "name": "python3"
  },
  "language_info": {
   "codemirror_mode": {
    "name": "ipython",
    "version": 3
   },
   "file_extension": ".py",
   "mimetype": "text/x-python",
   "name": "python",
   "nbconvert_exporter": "python",
   "pygments_lexer": "ipython3",
   "version": "3.7.3"
  }
 },
 "nbformat": 4,
 "nbformat_minor": 2
}
