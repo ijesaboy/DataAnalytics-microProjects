{
 "cells": [
  {
   "cell_type": "markdown",
   "metadata": {},
   "source": [
    "# Exercise: Board Game Geek Database\n",
    "\n",
    "Download the Board Games SQLite database (https://www.kaggle.com/gabrio/board-games-dataset) from Kaggle. Then in Jupyter Notebook, read in the data for each table. Use code to show the number of rows and columns for each table in the database. Upload the notebook with this information to your Github profile and submit the URL."
   ]
  },
  {
   "cell_type": "code",
   "execution_count": 1,
   "metadata": {},
   "outputs": [],
   "source": [
    "#hollaman\n",
    "#20191108\n",
    "#inclass15 Board Game Geek Exercise\n",
    "\n",
    "import pandas as pd\n",
    "import sqlite3\n",
    "\n",
    "conn_bgd = sqlite3.connect(\"board-games-dataset/database.sqlite\")\n",
    "dfTables = pd.read_sql_query(\"SELECT name FROM sqlite_master WHERE type='table';\", conn_bgd)\n",
    "#dfTables.loc[:,'name']"
   ]
  },
  {
   "cell_type": "code",
   "execution_count": 2,
   "metadata": {},
   "outputs": [],
   "source": [
    "# Counting columns and rows for BoardGames\n",
    "#df_bg = pd.read_sql_query(\"SELECT * FROM 'BoardGames';\", conn_bgd)\n",
    "#df_bg.shape"
   ]
  },
  {
   "cell_type": "code",
   "execution_count": 4,
   "metadata": {},
   "outputs": [
    {
     "name": "stdout",
     "output_type": "stream",
     "text": [
      "The dimensions (rows,columns) of rows in BoardGames is: (90400, 81)\n",
      "The dimensions (rows,columns) of rows in bgg.ldaOut.topics is: (29229, 2)\n",
      "The dimensions (rows,columns) of rows in bgg.ldaOut.top.terms is: (250, 4)\n",
      "The dimensions (rows,columns) of rows in bgg.ldaOut.top.documents is: (288, 4)\n",
      "The dimensions (rows,columns) of rows in bgg.topics is: (29313, 74)\n"
     ]
    }
   ],
   "source": [
    "#for tablename in dfTables:\n",
    "for t in dfTables.loc[:,'name']:\n",
    "    df_x = pd.read_sql_query(\"SELECT * FROM '{:s}';\".format(t), conn_bgd)\n",
    "    print(\"The dimensions (rows,columns) of rows in {:s} is: (%d, %d)\".format(t) % df_x.shape, end='\\n')"
   ]
  }
 ],
 "metadata": {
  "kernelspec": {
   "display_name": "Python 3",
   "language": "python",
   "name": "python3"
  },
  "language_info": {
   "codemirror_mode": {
    "name": "ipython",
    "version": 3
   },
   "file_extension": ".py",
   "mimetype": "text/x-python",
   "name": "python",
   "nbconvert_exporter": "python",
   "pygments_lexer": "ipython3",
   "version": "3.7.3"
  }
 },
 "nbformat": 4,
 "nbformat_minor": 2
}
