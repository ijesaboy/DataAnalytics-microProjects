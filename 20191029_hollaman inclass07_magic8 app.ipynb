{
 "cells": [
  {
   "cell_type": "markdown",
   "metadata": {},
   "source": [
    "# Magic 8-Ball\n",
    "\n",
    "Create a program that mimics the Magic 8 Ball. Magic 8 Ball is a toy ball containing a clear 'window', and when you shake the ball (and ask it a question) a random response rises to the window. You can read about the Magic 8 Ball on Wikipedia.\n",
    "Your program will prompt the user for a question and select a random answer from the list below. See the required output below the responses.\n",
    "\n",
    "- It is certain\n",
    "- It is decidedly so\n",
    "- Without a doubt\n",
    "- Yes definitely\n",
    "- You may rely on it\n",
    "- As I see it, yes\n",
    "- Most likely\n",
    "- Outlook good\n",
    "- Yes\n",
    "- Signs point to yes\n",
    "- Reply hazy try again\n",
    "- Ask again later\n",
    "- Better not tell you now\n",
    "- Cannot predict now\n",
    "- Concentrate and ask again\n",
    "- Don't count on it\n",
    "- My reply is no\n",
    "- My sources say no\n",
    "- Outlook not so good\n",
    "- Very doubtful\n",
    "\n",
    "Implement a loop to continue asking the user for more questions until they enter \"No\" to stop.\n",
    "Write a method to handle the generating of the random response.\n",
    "Display the question and the answer to the user."
   ]
  },
  {
   "cell_type": "code",
   "execution_count": 1,
   "metadata": {},
   "outputs": [],
   "source": [
    "#hollaman\n",
    "#20191028\n",
    "#inclass06 Eliza Exercise\n",
    "\n",
    "from time import sleep #So we're able to delay elizaBot's responses so they seem more... personalized to the user's input\n",
    "from random import randint #So we're able to randomly select from a set of stock responses\n",
    "\n",
    "def print_delayed(msg,sec,*sep):\n",
    "    sleep(sec)\n",
    "    if sep:\n",
    "        print(msg,end=sep[0])\n",
    "    else:\n",
    "        print(msg,end=' ')"
   ]
  },
  {
   "cell_type": "code",
   "execution_count": 2,
   "metadata": {},
   "outputs": [],
   "source": [
    "def divineAdvice(question):\n",
    "    magic8 = [\"It is certain\", \"It is decidedly so\",\"Without a doubt\",\"Yes definitely\",\"You may rely on it\", \"As I see it, yes\", \"Most likely\", \"Outlook good\", \"Yes\", \"Signs point to yes\", \"Reply hazy try again\", \"Ask again later\", \"Better not tell you now\", \"Cannot predict now\", \"Concentrate and ask again\", \"Don't count on it\", \"My reply is no\", \"My sources say no\", \"Outlook not so good\", \"Very doubtful\"]\n",
    "    return magic8[randint(0,len(magic8)-1)]\n",
    "\n",
    "#divineAdvice(\"It there a chance we'll automate away development jobs in IT?\")"
   ]
  },
  {
   "cell_type": "code",
   "execution_count": 3,
   "metadata": {},
   "outputs": [],
   "source": [
    "def magic8():\n",
    "\n",
    "    #a few values that'll help direct responses\n",
    "    counter = 0 #this will count how many times we've walked through the loop\n",
    "    uresponse = '' #default of user response\n",
    "    \n",
    "    #################\n",
    "    #input dialogs\n",
    "    #################\n",
    "    inputDialog = \"Enter your question here or input 'No' to quit: \\n\"\n",
    "    uresponse = str(input(inputDialog)).lower()\n",
    "    \n",
    "    inputDialog2 = \"Do you have another question for the Magic 8-Ball? (y/n)\"\n",
    "    while not uresponse == 'no' and not uresponse == 'n' :\n",
    "        if counter == 0:\n",
    "            print_delayed(\" \".join([\"MAGIC 8-BALL SAYS:\",divineAdvice(uresponse)]),2,\"\\n\\n\")\n",
    "            uresponse = str(input(inputDialog2)).lower()\n",
    "            counter += 1\n",
    "        else:\n",
    "            uresponse = str(input(\"YOUR QUESTION: \")).lower()\n",
    "            print_delayed(\" \".join([\"MAGIC 8-BALL SAYS:\",divineAdvice(uresponse)]),2,\"\\n\\n\")\n",
    "            counter += 1\n",
    "            uresponse = str(input(inputDialog2)).lower()\n",
    "            \n",
    "    print_delayed(\"\\nThank you for playing!\",1)\n",
    "    \n",
    "#magic8()"
   ]
  },
  {
   "cell_type": "code",
   "execution_count": 5,
   "metadata": {},
   "outputs": [
    {
     "name": "stdout",
     "output_type": "stream",
     "text": [
      "Enter your question here or input 'No' to quit: \n",
      "should i break for food?\n",
      "MAGIC 8-BALL SAYS: It is decidedly so\n",
      "\n",
      "Do you have another question for the Magic 8-Ball? (y/n)n\n",
      "\n",
      "Thank you for playing! "
     ]
    }
   ],
   "source": [
    "def main():\n",
    "    magic8()\n",
    "    \n",
    "main()"
   ]
  }
 ],
 "metadata": {
  "kernelspec": {
   "display_name": "Python 3",
   "language": "python",
   "name": "python3"
  },
  "language_info": {
   "codemirror_mode": {
    "name": "ipython",
    "version": 3
   },
   "file_extension": ".py",
   "mimetype": "text/x-python",
   "name": "python",
   "nbconvert_exporter": "python",
   "pygments_lexer": "ipython3",
   "version": "3.7.3"
  }
 },
 "nbformat": 4,
 "nbformat_minor": 2
}
