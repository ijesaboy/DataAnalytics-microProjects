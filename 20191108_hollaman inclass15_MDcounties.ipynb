{
 "cells": [
  {
   "cell_type": "markdown",
   "metadata": {},
   "source": [
    "# Exercise: Counties in Maryland\n",
    "\n",
    "From Wikipedia, use web scraping to gather the information from the table of the list of counties in Maryland (Links to an external site.). (Links to an external site.)\n",
    "\n",
    "The information to include in your final dataframe is:\n",
    "- County Name\n",
    "- FIPS Code\n",
    "- County Seat\n",
    "- Established (year)\n",
    "- Origin\n",
    "- Etymology\n",
    "- Population\n",
    "- Area\n",
    "\n",
    "Upload your completed Jupyter notebook to Github and submit the URL for this assignment."
   ]
  },
  {
   "cell_type": "markdown",
   "metadata": {},
   "source": [
    "The `requests` library is the de facto standard for making HTTP requests in Python."
   ]
  },
  {
   "cell_type": "code",
   "execution_count": 1,
   "metadata": {},
   "outputs": [],
   "source": [
    "import requests #library used to connect to a website"
   ]
  },
  {
   "cell_type": "code",
   "execution_count": 2,
   "metadata": {},
   "outputs": [],
   "source": [
    "#specify the url\n",
    "URL = \"https://en.wikipedia.org/wiki/List_of_counties_in_Maryland#List_of_counties\""
   ]
  },
  {
   "cell_type": "code",
   "execution_count": 3,
   "metadata": {},
   "outputs": [],
   "source": [
    "# Connect to the website as the variable 'page'\n",
    "# The GET method indicates that you’re trying to get or retrieve data from a specified resource. \n",
    "# To make a GET request, invoke requests.get().\n",
    "page = requests.get(URL)"
   ]
  },
  {
   "cell_type": "code",
   "execution_count": 4,
   "metadata": {},
   "outputs": [
    {
     "data": {
      "text/plain": [
       "requests.models.Response"
      ]
     },
     "execution_count": 4,
     "metadata": {},
     "output_type": "execute_result"
    }
   ],
   "source": [
    "# A Response is a powerful object for inspecting the results of the request.\n",
    "type(page)"
   ]
  },
  {
   "cell_type": "code",
   "execution_count": 5,
   "metadata": {},
   "outputs": [
    {
     "data": {
      "text/plain": [
       "200"
      ]
     },
     "execution_count": 5,
     "metadata": {},
     "output_type": "execute_result"
    }
   ],
   "source": [
    "# verify successful connection to website\n",
    "\n",
    "# To know about the all codes \n",
    "# https://www.restapitutorial.com/httpstatuscodes.html\n",
    "  \n",
    "#  a 200 OK status means that your request was successful,and the server responded with the data you were requesting,\n",
    "# whereas a 404 NOT FOUND status means that the resource you were looking for was not found.     \n",
    "page.status_code"
   ]
  },
  {
   "cell_type": "markdown",
   "metadata": {},
   "source": [
    "## HTML - The Basics\n",
    "This is the basic syntax of an HTML webpage. Every `<tag>` serves a block inside the webpage:\n",
    "1. `<!DOCTYPE html>`  HTML documents must start with a type declaration.\n",
    "2. The HTML document is contained between `<html>` and `</html>`.\n",
    "3. The meta and script declaration of the HTML document is between <head>and </head>.\n",
    "4. The visible part of the HTML document is between `<body>` and `</body>` tags.\n",
    "5. Title headings are defined with the `<h1>`  through  `< h6>` tags.\n",
    "6. Paragraphs are defined with the `<p>` tag.\n",
    "\n",
    "Other useful tags include `<a>` for hyperlinks, `<table>` for tables, `<tr>` for table rows, and `<td>` tag defines a standard cell in an HTML table."
   ]
  },
  {
   "cell_type": "code",
   "execution_count": 6,
   "metadata": {},
   "outputs": [],
   "source": [
    "#save string format of website HTML into a variable\n",
    "HTMLstr = page.text\n",
    "#print(HTMLstr[:300])"
   ]
  },
  {
   "cell_type": "code",
   "execution_count": 7,
   "metadata": {},
   "outputs": [],
   "source": [
    "#import the Beautiful soup functions to parse the data returned from the website\n",
    "\n",
    "# Beautiful Soup is a library that makes it easy to scrape information from web pages. It sits atop an HTML\n",
    "# or XML parser, providing Pythonic idioms for iterating, searching, and modifying the parse tree.\n",
    "from bs4 import BeautifulSoup"
   ]
  },
  {
   "cell_type": "code",
   "execution_count": 8,
   "metadata": {},
   "outputs": [],
   "source": [
    "\n",
    "# parse the html using beautiful soup and store in variable `soup`\n",
    "# First argument: It is the raw HTML content.\n",
    "# Second Argument:  Specifying the HTML parser we want to use.\n",
    "soup = BeautifulSoup(HTMLstr, \"html.parser\")"
   ]
  },
  {
   "cell_type": "code",
   "execution_count": 9,
   "metadata": {},
   "outputs": [],
   "source": [
    "# Format page contents to include indentation\n",
    "# Now soup.prettify() is printed, it gives the visual representation\n",
    "# of the parse tree created from the raw HTML content.\n",
    "#print (soup.prettify())"
   ]
  },
  {
   "cell_type": "code",
   "execution_count": 10,
   "metadata": {},
   "outputs": [],
   "source": [
    "#get the <table> tag that contains the data we want to scrape\n",
    "right_table=soup.find('table', class_='wikitable sortable')"
   ]
  },
  {
   "cell_type": "code",
   "execution_count": 11,
   "metadata": {},
   "outputs": [],
   "source": [
    "#set empty lists to hold data of each column\n",
    "A=[]\n",
    "B=[]\n",
    "C=[]\n",
    "D=[]\n",
    "E=[]\n",
    "F=[]\n",
    "I=[]\n",
    "J=[]\n",
    "\n",
    "#find all <tr> tags in the table and go through each one (row)\n",
    "# tr table row tag\n",
    "for row in right_table.findAll(\"tr\")[1:]:\n",
    "    \n",
    "    A.append(row.th.find(text=True)) #gets info in County Name column and adds it to list A\n",
    "    \n",
    "    #get all the <td> tags for each <tr> tag\n",
    "    cells = row.findAll('td')\n",
    "    \n",
    "    #if there are 11 <td> tags, 11 cells in a row\n",
    "    if len(cells)==10: \n",
    "        B.append(cells[0].find(text=True)) # gets info from FIPS Code column and adds it to list B\n",
    "        C.append(cells[1].find(text=True)) # gets info from County Seat column; add it to list C\n",
    "        D.append(cells[2].find(text=True)) # gets info from Established (year) column and adds it to list D\n",
    "        E.append(cells[3].find(text=True)) # gets info from Origin column and adds it to list E\n",
    "        F.append(cells[4].find(text=True)) # gets info from Etymology column and adds it to list F\n",
    "        I.append(cells[7].find(text=True)) # gets info from Population column and adds it to list I\n",
    "        J.append(cells[8].find(text=True)) # gets info from Area column and adds it to list J"
   ]
  },
  {
   "cell_type": "code",
   "execution_count": 12,
   "metadata": {},
   "outputs": [
    {
     "data": {
      "text/html": [
       "<div>\n",
       "<style scoped>\n",
       "    .dataframe tbody tr th:only-of-type {\n",
       "        vertical-align: middle;\n",
       "    }\n",
       "\n",
       "    .dataframe tbody tr th {\n",
       "        vertical-align: top;\n",
       "    }\n",
       "\n",
       "    .dataframe thead th {\n",
       "        text-align: right;\n",
       "    }\n",
       "</style>\n",
       "<table border=\"1\" class=\"dataframe\">\n",
       "  <thead>\n",
       "    <tr style=\"text-align: right;\">\n",
       "      <th></th>\n",
       "      <th>County Name</th>\n",
       "      <th>FIPS Code</th>\n",
       "      <th>County Seat</th>\n",
       "      <th>Established (year)</th>\n",
       "      <th>Origin</th>\n",
       "      <th>Etymology</th>\n",
       "      <th>Population</th>\n",
       "      <th>Area</th>\n",
       "    </tr>\n",
       "  </thead>\n",
       "  <tbody>\n",
       "    <tr>\n",
       "      <th>0</th>\n",
       "      <td>Allegany County</td>\n",
       "      <td>001</td>\n",
       "      <td>Cumberland</td>\n",
       "      <td>1789</td>\n",
       "      <td>Formed from part of Washington County.</td>\n",
       "      <td>From the Lenape Indian word</td>\n",
       "      <td>74,012</td>\n",
       "      <td>430</td>\n",
       "    </tr>\n",
       "    <tr>\n",
       "      <th>1</th>\n",
       "      <td>Anne Arundel County</td>\n",
       "      <td>003</td>\n",
       "      <td>Annapolis</td>\n",
       "      <td>1650</td>\n",
       "      <td>Formed from part of St. Mary's County.</td>\n",
       "      <td>Anne Arundell</td>\n",
       "      <td>550,488</td>\n",
       "      <td>588</td>\n",
       "    </tr>\n",
       "    <tr>\n",
       "      <th>2</th>\n",
       "      <td>Baltimore County</td>\n",
       "      <td>005</td>\n",
       "      <td>Towson</td>\n",
       "      <td>1659</td>\n",
       "      <td>Formed from unorganized territory</td>\n",
       "      <td>Cecil Calvert, 2nd Baron Baltimore</td>\n",
       "      <td>817,455</td>\n",
       "      <td>682</td>\n",
       "    </tr>\n",
       "    <tr>\n",
       "      <th>3</th>\n",
       "      <td>Baltimore City</td>\n",
       "      <td>510</td>\n",
       "      <td>Baltimore City</td>\n",
       "      <td>1851</td>\n",
       "      <td>Founded in 1729. Detached in 1851 from Baltimo...</td>\n",
       "      <td>Cecil Calvert, 2nd Baron Baltimore</td>\n",
       "      <td>621,342</td>\n",
       "      <td>92</td>\n",
       "    </tr>\n",
       "    <tr>\n",
       "      <th>4</th>\n",
       "      <td>Calvert County</td>\n",
       "      <td>009</td>\n",
       "      <td>Prince Frederick</td>\n",
       "      <td>1654</td>\n",
       "      <td>Formed as Patuxent County from unorganized ter...</td>\n",
       "      <td>The</td>\n",
       "      <td>89,628</td>\n",
       "      <td>345</td>\n",
       "    </tr>\n",
       "  </tbody>\n",
       "</table>\n",
       "</div>"
      ],
      "text/plain": [
       "           County Name FIPS Code       County Seat Established (year)  \\\n",
       "0      Allegany County       001        Cumberland               1789   \n",
       "1  Anne Arundel County       003         Annapolis               1650   \n",
       "2     Baltimore County       005            Towson               1659   \n",
       "3       Baltimore City       510    Baltimore City               1851   \n",
       "4       Calvert County       009  Prince Frederick               1654   \n",
       "\n",
       "                                              Origin  \\\n",
       "0             Formed from part of Washington County.   \n",
       "1             Formed from part of St. Mary's County.   \n",
       "2                  Formed from unorganized territory   \n",
       "3  Founded in 1729. Detached in 1851 from Baltimo...   \n",
       "4  Formed as Patuxent County from unorganized ter...   \n",
       "\n",
       "                            Etymology Population Area  \n",
       "0        From the Lenape Indian word      74,012  430  \n",
       "1                       Anne Arundell    550,488  588  \n",
       "2  Cecil Calvert, 2nd Baron Baltimore    817,455  682  \n",
       "3  Cecil Calvert, 2nd Baron Baltimore    621,342   92  \n",
       "4                                The      89,628  345  "
      ]
     },
     "execution_count": 12,
     "metadata": {},
     "output_type": "execute_result"
    }
   ],
   "source": [
    "#import pandas to convert list to data frame\n",
    "import pandas as pd\n",
    "\n",
    "df=pd.DataFrame(A, columns=['County Name']) #turn list A into dataframe first\n",
    "\n",
    "#add other lists as new columns in my new dataframe\n",
    "df['FIPS Code'] = B\n",
    "df['County Seat'] = C\n",
    "df['Established (year)'] = D\n",
    "df['Origin'] = E\n",
    "df['Etymology'] = F\n",
    "df['Population'] = I\n",
    "df['Area'] = J\n",
    "\n",
    "#show first 5 rows of created dataframe\n",
    "df.head()"
   ]
  },
  {
   "cell_type": "code",
   "execution_count": 13,
   "metadata": {},
   "outputs": [],
   "source": [
    "#export scraped data to a csv file\n",
    "df.to_csv(\"MD_Counties.csv\")"
   ]
  }
 ],
 "metadata": {
  "kernelspec": {
   "display_name": "Python 3",
   "language": "python",
   "name": "python3"
  },
  "language_info": {
   "codemirror_mode": {
    "name": "ipython",
    "version": 3
   },
   "file_extension": ".py",
   "mimetype": "text/x-python",
   "name": "python",
   "nbconvert_exporter": "python",
   "pygments_lexer": "ipython3",
   "version": "3.7.3"
  }
 },
 "nbformat": 4,
 "nbformat_minor": 2
}
